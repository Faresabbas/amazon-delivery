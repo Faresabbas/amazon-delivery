{
    "metadata": {
        "kernelspec": {
            "name": "SQL",
            "display_name": "SQL",
            "language": "sql"
        },
        "language_info": {
            "name": "sql",
            "version": ""
        }
    },
    "nbformat_minor": 2,
    "nbformat": 4,
    "cells": [
        {
            "cell_type": "code",
            "source": [
                "CREATE TABLE Staging_Amazon_Delivery (\r\n",
                "    Order_ID VARCHAR(50),\r\n",
                "    Agent_Age INT,\r\n",
                "    Agent_Rating FLOAT,\r\n",
                "    Store_Latitude FLOAT,\r\n",
                "    Store_Longitude FLOAT,\r\n",
                "    Drop_Latitude FLOAT,\r\n",
                "    Drop_Longitude FLOAT,\r\n",
                "    Order_Date DATE,\r\n",
                "    Order_Time TIME,\r\n",
                "    Pickup_Time TIME,\r\n",
                "    Weather VARCHAR(50),\r\n",
                "    Traffic VARCHAR(50),\r\n",
                "    Vehicle VARCHAR(50),\r\n",
                "    Area VARCHAR(50),\r\n",
                "    Delivery_Time INT,\r\n",
                "    Category VARCHAR(50)\r\n",
                ");\r\n",
                ""
            ],
            "metadata": {
                "azdata_cell_guid": "3c6efc6a-68e2-4cac-ab70-1c6c76cb4d77",
                "language": "sql"
            },
            "outputs": [
                {
                    "output_type": "error",
                    "evalue": "Msg 2714, Level 16, State 6, Line 1\r\nThere is already an object named 'Staging_Amazon_Delivery' in the database.",
                    "ename": "",
                    "traceback": []
                },
                {
                    "output_type": "display_data",
                    "data": {
                        "text/html": "Total execution time: 00:00:00.002"
                    },
                    "metadata": {}
                }
            ],
            "execution_count": 6
        },
        {
            "cell_type": "code",
            "source": [
                "BULK INSERT Staging_Amazon_Delivery\r\n",
                "FROM 'D:\\Ai-Files\\Courses\\ML&PYTHON\\amazon_delivery\\dataset\\amazon_delivery.csv'\r\n",
                "WITH (\r\n",
                "    FIELDTERMINATOR = ',',\r\n",
                "    ROWTERMINATOR = '\\n',\r\n",
                "    FIRSTROW = 2,\r\n",
                "    MAXERRORS = 1000 -- Increase the number of allowed errors\r\n",
                ");\r\n",
                ""
            ],
            "metadata": {
                "azdata_cell_guid": "c935b44f-97e1-4507-8b19-7849b800353e",
                "language": "sql"
            },
            "outputs": [
{
    "output_type": "error",
    "evalue": "Msg 4864, Level 16, State 1, Line 1\r\nBulk load data conversion error (type mismatch or invalid character for the specified codepage) for row 2288, column 9 (Order_Time).",
    "ename": "",
    "traceback": []
}, {
    "output_type": "error",
    "evalue": "Msg 4864, Level 16, State 1, Line 1\r\nBulk load data conversion error (type mismatch or invalid character for the specified codepage) for row 2781, column 9 (Order_Time).",
    "ename": "",
    "traceback": []
}, {
    "output_type": "error",
    "evalue": "Msg 4864, Level 16, State 1, Line 1\r\nBulk load data conversion error (type mismatch or invalid character for the specified codepage) for row 2827, column 9 (Order_Time).",
    "ename": "",
    "traceback": []
}, {
    "output_type": "error",
    "evalue": "Msg 4864, Level 16, State 1, Line 1\r\nBulk load data conversion error (type mismatch or invalid character for the specified codepage) for row 3440, column 9 (Order_Time).",
    "ename": "",
    "traceback": []
}, {
    "output_type": "error",
    "evalue": "Msg 4864, Level 16, State 1, Line 1\r\nBulk load data conversion error (type mismatch or invalid character for the specified codepage) for row 4516, column 9 (Order_Time).",
    "ename": "",
    "traceback": []
}, {
    "output_type": "error",
    "evalue": "Msg 4864, Level 16, State 1, Line 1\r\nBulk load data conversion error (type mismatch or invalid character for the specified codepage) for row 4960, column 9 (Order_Time).",
    "ename": "",
    "traceback": []
}, {
    "output_type": "error",
    "evalue": "Msg 4864, Level 16, State 1, Line 1\r\nBulk load data conversion error (type mismatch or invalid character for the specified codepage) for row 5144, column 9 (Order_Time).",
    "ename": "",
    "traceback": []
}, {
    "output_type": "error",
    "evalue": "Msg 4864, Level 16, State 1, Line 1\r\nBulk load data conversion error (type mismatch or invalid character for the specified codepage) for row 5420, column 9 (Order_Time).",
    "ename": "",
    "traceback": []
}, {
    "output_type": "error",
    "evalue": "Msg 4864, Level 16, State 1, Line 1\r\nBulk load data conversion error (type mismatch or invalid character for the specified codepage) for row 5661, column 9 (Order_Time).",
    "ename": "",
    "traceback": []
}, {
    "output_type": "error",
    "evalue": "Msg 4864, Level 16, State 1, Line 1\r\nBulk load data conversion error (type mismatch or invalid character for the specified codepage) for row 6134, column 9 (Order_Time).",
    "ename": "",
    "traceback": []
}, {
    "output_type": "error",
    "evalue": "Msg 4864, Level 16, State 1, Line 1\r\nBulk load data conversion error (type mismatch or invalid character for the specified codepage) for row 6743, column 9 (Order_Time).",
    "ename": "",
    "traceback": []
}, {
    "output_type": "error",
    "evalue": "Msg 4864, Level 16, State 1, Line 1\r\nBulk load data conversion error (type mismatch or invalid character for the specified codepage) for row 7366, column 9 (Order_Time).",
    "ename": "",
    "traceback": []
}, {
    "output_type": "error",
    "evalue": "Msg 4864, Level 16, State 1, Line 1\r\nBulk load data conversion error (type mismatch or invalid character for the specified codepage) for row 8785, column 9 (Order_Time).",
    "ename": "",
    "traceback": []
}, {
    "output_type": "error",
    "evalue": "Msg 4864, Level 16, State 1, Line 1\r\nBulk load data conversion error (type mismatch or invalid character for the specified codepage) for row 9115, column 9 (Order_Time).",
    "ename": "",
    "traceback": []
}, {
    "output_type": "error",
    "evalue": "Msg 4864, Level 16, State 1, Line 1\r\nBulk load data conversion error (type mismatch or invalid character for the specified codepage) for row 9150, column 9 (Order_Time).",
    "ename": "",
    "traceback": []
}, {
    "output_type": "error",
    "evalue": "Msg 4864, Level 16, State 1, Line 1\r\nBulk load data conversion error (type mismatch or invalid character for the specified codepage) for row 9694, column 9 (Order_Time).",
    "ename": "",
    "traceback": []
}, {
    "output_type": "error",
    "evalue": "Msg 4864, Level 16, State 1, Line 1\r\nBulk load data conversion error (type mismatch or invalid character for the specified codepage) for row 10310, column 9 (Order_Time).",
    "ename": "",
    "traceback": []
}, {
    "output_type": "error",
    "evalue": "Msg 4864, Level 16, State 1, Line 1\r\nBulk load data conversion error (type mismatch or invalid character for the specified codepage) for row 10468, column 9 (Order_Time).",
    "ename": "",
    "traceback": []
}, {
    "output_type": "error",
    "evalue": "Msg 4864, Level 16, State 1, Line 1\r\nBulk load data conversion error (type mismatch or invalid character for the specified codepage) for row 10689, column 9 (Order_Time).",
    "ename": "",
    "traceback": []
}, {
    "output_type": "error",
    "evalue": "Msg 4864, Level 16, State 1, Line 1\r\nBulk load data conversion error (type mismatch or invalid character for the specified codepage) for row 11612, column 9 (Order_Time).",
    "ename": "",
    "traceback": []
}, {
    "output_type": "error",
    "evalue": "Msg 4864, Level 16, State 1, Line 1\r\nBulk load data conversion error (type mismatch or invalid character for the specified codepage) for row 11809, column 9 (Order_Time).",
    "ename": "",
    "traceback": []
}, {
    "output_type": "error",
    "evalue": "Msg 4864, Level 16, State 1, Line 1\r\nBulk load data conversion error (type mismatch or invalid character for the specified codepage) for row 12728, column 9 (Order_Time).",
    "ename": "",
    "traceback": []
}, {
    "output_type": "error",
    "evalue": "Msg 4864, Level 16, State 1, Line 1\r\nBulk load data conversion error (type mismatch or invalid character for the specified codepage) for row 13108, column 9 (Order_Time).",
    "ename": "",
    "traceback": []
}, {
    "output_type": "error",
    "evalue": "Msg 4864, Level 16, State 1, Line 1\r\nBulk load data conversion error (type mismatch or invalid character for the specified codepage) for row 13546, column 9 (Order_Time).",
    "ename": "",
    "traceback": []
}, {
    "output_type": "error",
    "evalue": "Msg 4864, Level 16, State 1, Line 1\r\nBulk load data conversion error (type mismatch or invalid character for the specified codepage) for row 14321, column 9 (Order_Time).",
    "ename": "",
    "traceback": []
}, {
    "output_type": "error",
    "evalue": "Msg 4864, Level 16, State 1, Line 1\r\nBulk load data conversion error (type mismatch or invalid character for the specified codepage) for row 14358, column 9 (Order_Time).",
    "ename": "",
    "traceback": []
}, {
    "output_type": "error",
    "evalue": "Msg 4864, Level 16, State 1, Line 1\r\nBulk load data conversion error (type mismatch or invalid character for the specified codepage) for row 14532, column 9 (Order_Time).",
    "ename": "",
    "traceback": []
}, {
    "output_type": "error",
    "evalue": "Msg 4864, Level 16, State 1, Line 1\r\nBulk load data conversion error (type mismatch or invalid character for the specified codepage) for row 15309, column 9 (Order_Time).",
    "ename": "",
    "traceback": []
}, {
    "output_type": "error",
    "evalue": "Msg 4864, Level 16, State 1, Line 1\r\nBulk load data conversion error (type mismatch or invalid character for the specified codepage) for row 15460, column 9 (Order_Time).",
    "ename": "",
    "traceback": []
}, {
    "output_type": "error",
    "evalue": "Msg 4864, Level 16, State 1, Line 1\r\nBulk load data conversion error (type mismatch or invalid character for the specified codepage) for row 15828, column 9 (Order_Time).",
    "ename": "",
    "traceback": []
}, {
    "output_type": "error",
    "evalue": "Msg 4864, Level 16, State 1, Line 1\r\nBulk load data conversion error (type mismatch or invalid character for the specified codepage) for row 16149, column 9 (Order_Time).",
    "ename": "",
    "traceback": []
}, {
    "output_type": "error",
    "evalue": "Msg 4864, Level 16, State 1, Line 1\r\nBulk load data conversion error (type mismatch or invalid character for the specified codepage) for row 16481, column 9 (Order_Time).",
    "ename": "",
    "traceback": []
}, {
    "output_type": "error",
    "evalue": "Msg 4864, Level 16, State 1, Line 1\r\nBulk load data conversion error (type mismatch or invalid character for the specified codepage) for row 17025, column 9 (Order_Time).",
    "ename": "",
    "traceback": []
}, {
    "output_type": "error",
    "evalue": "Msg 4864, Level 16, State 1, Line 1\r\nBulk load data conversion error (type mismatch or invalid character for the specified codepage) for row 18248, column 9 (Order_Time).",
    "ename": "",
    "traceback": []
}, {
    "output_type": "error",
    "evalue": "Msg 4864, Level 16, State 1, Line 1\r\nBulk load data conversion error (type mismatch or invalid character for the specified codepage) for row 18633, column 9 (Order_Time).",
    "ename": "",
    "traceback": []
}, {
    "output_type": "error",
    "evalue": "Msg 4864, Level 16, State 1, Line 1\r\nBulk load data conversion error (type mismatch or invalid character for the specified codepage) for row 19491, column 9 (Order_Time).",
    "ename": "",
    "traceback": []
}, {
    "output_type": "error",
    "evalue": "Msg 4864, Level 16, State 1, Line 1\r\nBulk load data conversion error (type mismatch or invalid character for the specified codepage) for row 20412, column 9 (Order_Time).",
    "ename": "",
    "traceback": []
}, {
    "output_type": "error",
    "evalue": "Msg 4864, Level 16, State 1, Line 1\r\nBulk load data conversion error (type mismatch or invalid character for the specified codepage) for row 20506, column 9 (Order_Time).",
    "ename": "",
    "traceback": []
}, {
    "output_type": "error",
    "evalue": "Msg 4864, Level 16, State 1, Line 1\r\nBulk load data conversion error (type mismatch or invalid character for the specified codepage) for row 21448, column 9 (Order_Time).",
    "ename": "",
    "traceback": []
}, {
    "output_type": "error",
    "evalue": "Msg 4864, Level 16, State 1, Line 1\r\nBulk load data conversion error (type mismatch or invalid character for the specified codepage) for row 21568, column 9 (Order_Time).",
    "ename": "",
    "traceback": []
}, {
    "output_type": "error",
    "evalue": "Msg 4864, Level 16, State 1, Line 1\r\nBulk load data conversion error (type mismatch or invalid character for the specified codepage) for row 22162, column 9 (Order_Time).",
    "ename": "",
    "traceback": []
}, {
    "output_type": "error",
    "evalue": "Msg 4864, Level 16, State 1, Line 1\r\nBulk load data conversion error (type mismatch or invalid character for the specified codepage) for row 22485, column 9 (Order_Time).",
    "ename": "",
    "traceback": []
}, {
    "output_type": "error",
    "evalue": "Msg 4864, Level 16, State 1, Line 1\r\nBulk load data conversion error (type mismatch or invalid character for the specified codepage) for row 22591, column 9 (Order_Time).",
    "ename": "",
    "traceback": []
}, {
    "output_type": "error",
    "evalue": "Msg 4864, Level 16, State 1, Line 1\r\nBulk load data conversion error (type mismatch or invalid character for the specified codepage) for row 22738, column 9 (Order_Time).",
    "ename": "",
    "traceback": []
}, {
    "output_type": "error",
    "evalue": "Msg 4864, Level 16, State 1, Line 1\r\nBulk load data conversion error (type mismatch or invalid character for the specified codepage) for row 22756, column 9 (Order_Time).",
    "ename": "",
    "traceback": []
}, {
    "output_type": "error",
    "evalue": "Msg 4864, Level 16, State 1, Line 1\r\nBulk load data conversion error (type mismatch or invalid character for the specified codepage) for row 23307, column 9 (Order_Time).",
    "ename": "",
    "traceback": []
}, {
    "output_type": "error",
    "evalue": "Msg 4864, Level 16, State 1, Line 1\r\nBulk load data conversion error (type mismatch or invalid character for the specified codepage) for row 23963, column 9 (Order_Time).",
    "ename": "",
    "traceback": []
}, {
    "output_type": "error",
    "evalue": "Msg 4864, Level 16, State 1, Line 1\r\nBulk load data conversion error (type mismatch or invalid character for the specified codepage) for row 24318, column 9 (Order_Time).",
    "ename": "",
    "traceback": []
}, {
    "output_type": "error",
    "evalue": "Msg 4864, Level 16, State 1, Line 1\r\nBulk load data conversion error (type mismatch or invalid character for the specified codepage) for row 24879, column 9 (Order_Time).",
    "ename": "",
    "traceback": []
}, {
    "output_type": "error",
    "evalue": "Msg 4864, Level 16, State 1, Line 1\r\nBulk load data conversion error (type mismatch or invalid character for the specified codepage) for row 25046, column 9 (Order_Time).",
    "ename": "",
    "traceback": []
}, {
    "output_type": "error",
    "evalue": "Msg 4864, Level 16, State 1, Line 1\r\nBulk load data conversion error (type mismatch or invalid character for the specified codepage) for row 25597, column 9 (Order_Time).",
    "ename": "",
    "traceback": []
}, {
    "output_type": "error",
    "evalue": "Msg 4864, Level 16, State 1, Line 1\r\nBulk load data conversion error (type mismatch or invalid character for the specified codepage) for row 25865, column 9 (Order_Time).",
    "ename": "",
    "traceback": []
}, {
    "output_type": "error",
    "evalue": "Msg 4864, Level 16, State 1, Line 1\r\nBulk load data conversion error (type mismatch or invalid character for the specified codepage) for row 26053, column 9 (Order_Time).",
    "ename": "",
    "traceback": []
}, {
    "output_type": "error",
    "evalue": "Msg 4864, Level 16, State 1, Line 1\r\nBulk load data conversion error (type mismatch or invalid character for the specified codepage) for row 26145, column 9 (Order_Time).",
    "ename": "",
    "traceback": []
}, {
    "output_type": "error",
    "evalue": "Msg 4864, Level 16, State 1, Line 1\r\nBulk load data conversion error (type mismatch or invalid character for the specified codepage) for row 26316, column 9 (Order_Time).",
    "ename": "",
    "traceback": []
}, {
    "output_type": "error",
    "evalue": "Msg 4864, Level 16, State 1, Line 1\r\nBulk load data conversion error (type mismatch or invalid character for the specified codepage) for row 26834, column 9 (Order_Time).",
    "ename": "",
    "traceback": []
}, {
    "output_type": "error",
    "evalue": "Msg 4864, Level 16, State 1, Line 1\r\nBulk load data conversion error (type mismatch or invalid character for the specified codepage) for row 26893, column 9 (Order_Time).",
    "ename": "",
    "traceback": []
}, {
    "output_type": "error",
    "evalue": "Msg 4864, Level 16, State 1, Line 1\r\nBulk load data conversion error (type mismatch or invalid character for the specified codepage) for row 27195, column 9 (Order_Time).",
    "ename": "",
    "traceback": []
}, {
    "output_type": "error",
    "evalue": "Msg 4864, Level 16, State 1, Line 1\r\nBulk load data conversion error (type mismatch or invalid character for the specified codepage) for row 27828, column 9 (Order_Time).",
    "ename": "",
    "traceback": []
}, {
    "output_type": "error",
    "evalue": "Msg 4864, Level 16, State 1, Line 1\r\nBulk load data conversion error (type mismatch or invalid character for the specified codepage) for row 28357, column 9 (Order_Time).",
    "ename": "",
    "traceback": []
}, {
    "output_type": "error",
    "evalue": "Msg 4864, Level 16, State 1, Line 1\r\nBulk load data conversion error (type mismatch or invalid character for the specified codepage) for row 28478, column 9 (Order_Time).",
    "ename": "",
    "traceback": []
}, {
    "output_type": "error",
    "evalue": "Msg 4864, Level 16, State 1, Line 1\r\nBulk load data conversion error (type mismatch or invalid character for the specified codepage) for row 29354, column 9 (Order_Time).",
    "ename": "",
    "traceback": []
}, {
    "output_type": "error",
    "evalue": "Msg 4864, Level 16, State 1, Line 1\r\nBulk load data conversion error (type mismatch or invalid character for the specified codepage) for row 29700, column 9 (Order_Time).",
    "ename": "",
    "traceback": []
}, {
    "output_type": "error",
    "evalue": "Msg 4864, Level 16, State 1, Line 1\r\nBulk load data conversion error (type mismatch or invalid character for the specified codepage) for row 29964, column 9 (Order_Time).",
    "ename": "",
    "traceback": []
}, {
    "output_type": "error",
    "evalue": "Msg 4864, Level 16, State 1, Line 1\r\nBulk load data conversion error (type mismatch or invalid character for the specified codepage) for row 29980, column 9 (Order_Time).",
    "ename": "",
    "traceback": []
}, {
    "output_type": "error",
    "evalue": "Msg 4864, Level 16, State 1, Line 1\r\nBulk load data conversion error (type mismatch or invalid character for the specified codepage) for row 30675, column 9 (Order_Time).",
    "ename": "",
    "traceback": []
}, {
    "output_type": "error",
    "evalue": "Msg 4864, Level 16, State 1, Line 1\r\nBulk load data conversion error (type mismatch or invalid character for the specified codepage) for row 31024, column 9 (Order_Time).",
    "ename": "",
    "traceback": []
}, {
    "output_type": "error",
    "evalue": "Msg 4864, Level 16, State 1, Line 1\r\nBulk load data conversion error (type mismatch or invalid character for the specified codepage) for row 31863, column 9 (Order_Time).",
    "ename": "",
    "traceback": []
}, {
    "output_type": "error",
    "evalue": "Msg 4864, Level 16, State 1, Line 1\r\nBulk load data conversion error (type mismatch or invalid character for the specified codepage) for row 32181, column 9 (Order_Time).",
    "ename": "",
    "traceback": []
}, {
    "output_type": "error",
    "evalue": "Msg 4864, Level 16, State 1, Line 1\r\nBulk load data conversion error (type mismatch or invalid character for the specified codepage) for row 33291, column 9 (Order_Time).",
    "ename": "",
    "traceback": []
}, {
    "output_type": "error",
    "evalue": "Msg 4864, Level 16, State 1, Line 1\r\nBulk load data conversion error (type mismatch or invalid character for the specified codepage) for row 33547, column 9 (Order_Time).",
    "ename": "",
    "traceback": []
}, {
    "output_type": "error",
    "evalue": "Msg 4864, Level 16, State 1, Line 1\r\nBulk load data conversion error (type mismatch or invalid character for the specified codepage) for row 34559, column 9 (Order_Time).",
    "ename": "",
    "traceback": []
}, {
    "output_type": "error",
    "evalue": "Msg 4864, Level 16, State 1, Line 1\r\nBulk load data conversion error (type mismatch or invalid character for the specified codepage) for row 35601, column 9 (Order_Time).",
    "ename": "",
    "traceback": []
}, {
    "output_type": "error",
    "evalue": "Msg 4864, Level 16, State 1, Line 1\r\nBulk load data conversion error (type mismatch or invalid character for the specified codepage) for row 36157, column 9 (Order_Time).",
    "ename": "",
    "traceback": []
}, {
    "output_type": "error",
    "evalue": "Msg 4864, Level 16, State 1, Line 1\r\nBulk load data conversion error (type mismatch or invalid character for the specified codepage) for row 36475, column 9 (Order_Time).",
    "ename": "",
    "traceback": []
}, {
    "output_type": "error",
    "evalue": "Msg 4864, Level 16, State 1, Line 1\r\nBulk load data conversion error (type mismatch or invalid character for the specified codepage) for row 36488, column 9 (Order_Time).",
    "ename": "",
    "traceback": []
}, {
    "output_type": "error",
    "evalue": "Msg 4864, Level 16, State 1, Line 1\r\nBulk load data conversion error (type mismatch or invalid character for the specified codepage) for row 37003, column 9 (Order_Time).",
    "ename": "",
    "traceback": []
}, {
    "output_type": "error",
    "evalue": "Msg 4864, Level 16, State 1, Line 1\r\nBulk load data conversion error (type mismatch or invalid character for the specified codepage) for row 37086, column 9 (Order_Time).",
    "ename": "",
    "traceback": []
}, {
    "output_type": "error",
    "evalue": "Msg 4864, Level 16, State 1, Line 1\r\nBulk load data conversion error (type mismatch or invalid character for the specified codepage) for row 37493, column 9 (Order_Time).",
    "ename": "",
    "traceback": []
}, {
    "output_type": "error",
    "evalue": "Msg 4864, Level 16, State 1, Line 1\r\nBulk load data conversion error (type mismatch or invalid character for the specified codepage) for row 37500, column 9 (Order_Time).",
    "ename": "",
    "traceback": []
}, {
    "output_type": "error",
    "evalue": "Msg 4864, Level 16, State 1, Line 1\r\nBulk load data conversion error (type mismatch or invalid character for the specified codepage) for row 38086, column 9 (Order_Time).",
    "ename": "",
    "traceback": []
}, {
    "output_type": "error",
    "evalue": "Msg 4864, Level 16, State 1, Line 1\r\nBulk load data conversion error (type mismatch or invalid character for the specified codepage) for row 38594, column 9 (Order_Time).",
    "ename": "",
    "traceback": []
}, {
    "output_type": "error",
    "evalue": "Msg 4864, Level 16, State 1, Line 1\r\nBulk load data conversion error (type mismatch or invalid character for the specified codepage) for row 38655, column 9 (Order_Time).",
    "ename": "",
    "traceback": []
}, {
    "output_type": "error",
    "evalue": "Msg 4864, Level 16, State 1, Line 1\r\nBulk load data conversion error (type mismatch or invalid character for the specified codepage) for row 39439, column 9 (Order_Time).",
    "ename": "",
    "traceback": []
}, {
    "output_type": "error",
    "evalue": "Msg 4864, Level 16, State 1, Line 1\r\nBulk load data conversion error (type mismatch or invalid character for the specified codepage) for row 39571, column 9 (Order_Time).",
    "ename": "",
    "traceback": []
}, {
    "output_type": "error",
    "evalue": "Msg 4864, Level 16, State 1, Line 1\r\nBulk load data conversion error (type mismatch or invalid character for the specified codepage) for row 40261, column 9 (Order_Time).",
    "ename": "",
    "traceback": []
}, {
    "output_type": "error",
    "evalue": "Msg 4864, Level 16, State 1, Line 1\r\nBulk load data conversion error (type mismatch or invalid character for the specified codepage) for row 40361, column 9 (Order_Time).",
    "ename": "",
    "traceback": []
}, {
    "output_type": "error",
    "evalue": "Msg 4864, Level 16, State 1, Line 1\r\nBulk load data conversion error (type mismatch or invalid character for the specified codepage) for row 41090, column 9 (Order_Time).",
    "ename": "",
    "traceback": []
}, {
    "output_type": "error",
    "evalue": "Msg 4864, Level 16, State 1, Line 1\r\nBulk load data conversion error (type mismatch or invalid character for the specified codepage) for row 42600, column 9 (Order_Time).",
    "ename": "",
    "traceback": []
}, {
    "output_type": "error",
    "evalue": "Msg 4864, Level 16, State 1, Line 1\r\nBulk load data conversion error (type mismatch or invalid character for the specified codepage) for row 43055, column 9 (Order_Time).",
    "ename": "",
    "traceback": []
}, {
    "output_type": "error",
    "evalue": "Msg 4864, Level 16, State 1, Line 1\r\nBulk load data conversion error (type mismatch or invalid character for the specified codepage) for row 43492, column 9 (Order_Time).",
    "ename": "",
    "traceback": []
}, {
    "output_type": "display_data",
    "data": {
        "text/html": "Total execution time: 00:00:00.676"
    },
    "metadata": {}
}
],
            "execution_count": 9
        }
    ]
}